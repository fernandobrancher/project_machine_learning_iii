{
 "cells": [
  {
   "cell_type": "markdown",
   "metadata": {},
   "source": [
    "## Projeto Machine Learning III\n",
    "\n",
    "Autores:\n",
    "- Ana Carolina Ferreira\n",
    "- Diego Dio\n",
    "- Fernando Brancher\n",
    "- Marília Melo\n",
    "- Mayara Medeiros"
   ]
  },
  {
   "cell_type": "markdown",
   "metadata": {},
   "source": [
    "### Etapas projeto (apagar para apresentação final):\n",
    "- Verificar uso de over/undersampling (não sei como faz nem onde se encaixaria)\n",
    "- Considerando que temos mais de 500mil amostras, fazer uma subamostragem para análise exploratória, etapas subsequentes de testes de modelo, usando o dataset completo somente para rodar o modelo final com os hiperparâmetros já definidos. \n",
    "- Análise Exploratória inicial (atualizar análise após divisão do dataset em treino/teste)\n",
    "    - describe\n",
    "    - Mostrar dados em gráficos ao invés de tabelas\n",
    "    - Distribuições de variáveis categóricas e numéricas\n",
    "    - heatmap de correlação entre variáveis\n",
    "- Column Transformer, divisão em X_train, X_test, y_train, y_test\n",
    "    - Stratify no split de treino/teste devido ao desbalanceamento\n",
    "    - Scaler (ver qual usar de acordo com as distribuições dos dados)\n",
    "    - OneHot/Ordinal Encoder\n",
    "- Seleção de features\n",
    "- PCA para redução de dimensionalidade\n",
    "- Modelo não supervisionado para verificar clusters de clientes e padrões no dataset\n",
    "- Teste de 3 ou 4 modelos com grid/random search (lembrar que essa parte costuma demorar)\n"
   ]
  },
  {
   "cell_type": "code",
   "execution_count": 3,
   "metadata": {},
   "outputs": [],
   "source": [
    "import pandas as pd\n",
    "import matplotlib.pyplot as plt\n",
    "import seaborn as sns\n",
    "\n",
    "from sklearn.model_selection import train_test_split"
   ]
  },
  {
   "cell_type": "markdown",
   "metadata": {},
   "source": [
    "## Apresentação"
   ]
  },
  {
   "cell_type": "markdown",
   "metadata": {},
   "source": [
    "https://www.kaggle.com/datasets/laotse/credit-card-approval"
   ]
  },
  {
   "cell_type": "markdown",
   "metadata": {},
   "source": [
    "| Feature | Name | Description Remarks |\n",
    "| --------|-------|--------------------|\n",
    "| ID |Client Number ||\n",
    "| CODE_GENDER | Gender ||\n",
    "| FLAG_OWN_CAR | Is there a car\t ||\n",
    "| FLAG_OWN_REALTY |\tIs there a property ||\t\n",
    "| CNT_CHILDREN | Number of Children ||\n",
    "| AMT_INCOME_TOTAL | Annual Income ||\n",
    "| NAME_EDUCATION_TYPE |\tEducation Level ||\n",
    "| NAME_FAMILY_STATUS | Marital Status ||\n",
    "| NAME_HOUSING_TYPE | Way of Living\t ||\n",
    "| DAYS_BIRTH | Age in days\t ||\n",
    "| DAYS_EMPLOYED | Duration of work in days\t ||\n",
    "| FLAG_MOBIL | Is there a mobile phone\t ||\n",
    "| FLAG_WORK_PHONE |\tIs there a work phone\t ||\n",
    "| FLAG_PHONE | Is there a phone\t ||\n",
    "| FLAG_EMAIL | Is there an email\t ||\n",
    "| JOB |\tJob\t ||\n",
    "| BEGIN_MONTHS | Record month | The month of the extracted data is the starting point, backwards, 0 is the current month, -1 is the previous month, and so on |\n",
    "| STATUS |\tStatus | 0: 1-29 days past due 1: 30-59 days past due 2: 60-89 days overdue 3: 90-119 days overdue 4: 120-149 days overdue 5: Overdue or bad debts, write-offs for more than 150 days C: paid off that month X: No loan for the month |\n",
    "| TARGET |\tTarget  |\tRisk user are marked as '1', else are '0' |"
   ]
  },
  {
   "cell_type": "markdown",
   "metadata": {},
   "source": [
    "### 1. Leitura, tratamento e padronização dos dados"
   ]
  },
  {
   "cell_type": "code",
   "execution_count": 9,
   "metadata": {},
   "outputs": [
    {
     "data": {
      "text/html": [
       "<div>\n",
       "<style scoped>\n",
       "    .dataframe tbody tr th:only-of-type {\n",
       "        vertical-align: middle;\n",
       "    }\n",
       "\n",
       "    .dataframe tbody tr th {\n",
       "        vertical-align: top;\n",
       "    }\n",
       "\n",
       "    .dataframe thead th {\n",
       "        text-align: right;\n",
       "    }\n",
       "</style>\n",
       "<table border=\"1\" class=\"dataframe\">\n",
       "  <thead>\n",
       "    <tr style=\"text-align: right;\">\n",
       "      <th></th>\n",
       "      <th>ID</th>\n",
       "      <th>CODE_GENDER</th>\n",
       "      <th>FLAG_OWN_CAR</th>\n",
       "      <th>FLAG_OWN_REALTY</th>\n",
       "      <th>CNT_CHILDREN</th>\n",
       "      <th>AMT_INCOME_TOTAL</th>\n",
       "      <th>NAME_EDUCATION_TYPE</th>\n",
       "      <th>NAME_FAMILY_STATUS</th>\n",
       "      <th>NAME_HOUSING_TYPE</th>\n",
       "      <th>DAYS_BIRTH</th>\n",
       "      <th>DAYS_EMPLOYED</th>\n",
       "      <th>FLAG_MOBIL</th>\n",
       "      <th>FLAG_WORK_PHONE</th>\n",
       "      <th>FLAG_PHONE</th>\n",
       "      <th>FLAG_EMAIL</th>\n",
       "      <th>JOB</th>\n",
       "      <th>BEGIN_MONTHS</th>\n",
       "      <th>STATUS</th>\n",
       "      <th>TARGET</th>\n",
       "    </tr>\n",
       "  </thead>\n",
       "  <tbody>\n",
       "    <tr>\n",
       "      <th>0</th>\n",
       "      <td>5065438</td>\n",
       "      <td>F</td>\n",
       "      <td>Y</td>\n",
       "      <td>N</td>\n",
       "      <td>2+ children</td>\n",
       "      <td>270000.0</td>\n",
       "      <td>Secondary / secondary special</td>\n",
       "      <td>Married</td>\n",
       "      <td>With parents</td>\n",
       "      <td>-13258</td>\n",
       "      <td>-2300</td>\n",
       "      <td>1</td>\n",
       "      <td>0</td>\n",
       "      <td>0</td>\n",
       "      <td>0</td>\n",
       "      <td>Managers</td>\n",
       "      <td>-6</td>\n",
       "      <td>C</td>\n",
       "      <td>0</td>\n",
       "    </tr>\n",
       "    <tr>\n",
       "      <th>1</th>\n",
       "      <td>5142753</td>\n",
       "      <td>F</td>\n",
       "      <td>N</td>\n",
       "      <td>N</td>\n",
       "      <td>No children</td>\n",
       "      <td>81000.0</td>\n",
       "      <td>Secondary / secondary special</td>\n",
       "      <td>Single / not married</td>\n",
       "      <td>House / apartment</td>\n",
       "      <td>-17876</td>\n",
       "      <td>-377</td>\n",
       "      <td>1</td>\n",
       "      <td>1</td>\n",
       "      <td>1</td>\n",
       "      <td>0</td>\n",
       "      <td>Private service staff</td>\n",
       "      <td>-4</td>\n",
       "      <td>0</td>\n",
       "      <td>0</td>\n",
       "    </tr>\n",
       "    <tr>\n",
       "      <th>2</th>\n",
       "      <td>5111146</td>\n",
       "      <td>M</td>\n",
       "      <td>Y</td>\n",
       "      <td>Y</td>\n",
       "      <td>No children</td>\n",
       "      <td>270000.0</td>\n",
       "      <td>Higher education</td>\n",
       "      <td>Married</td>\n",
       "      <td>House / apartment</td>\n",
       "      <td>-19579</td>\n",
       "      <td>-1028</td>\n",
       "      <td>1</td>\n",
       "      <td>0</td>\n",
       "      <td>1</td>\n",
       "      <td>0</td>\n",
       "      <td>Laborers</td>\n",
       "      <td>0</td>\n",
       "      <td>C</td>\n",
       "      <td>0</td>\n",
       "    </tr>\n",
       "    <tr>\n",
       "      <th>3</th>\n",
       "      <td>5010310</td>\n",
       "      <td>F</td>\n",
       "      <td>Y</td>\n",
       "      <td>Y</td>\n",
       "      <td>1 children</td>\n",
       "      <td>112500.0</td>\n",
       "      <td>Secondary / secondary special</td>\n",
       "      <td>Married</td>\n",
       "      <td>House / apartment</td>\n",
       "      <td>-15109</td>\n",
       "      <td>-1956</td>\n",
       "      <td>1</td>\n",
       "      <td>0</td>\n",
       "      <td>0</td>\n",
       "      <td>0</td>\n",
       "      <td>Core staff</td>\n",
       "      <td>-3</td>\n",
       "      <td>0</td>\n",
       "      <td>0</td>\n",
       "    </tr>\n",
       "    <tr>\n",
       "      <th>4</th>\n",
       "      <td>5010835</td>\n",
       "      <td>M</td>\n",
       "      <td>Y</td>\n",
       "      <td>Y</td>\n",
       "      <td>2+ children</td>\n",
       "      <td>139500.0</td>\n",
       "      <td>Secondary / secondary special</td>\n",
       "      <td>Married</td>\n",
       "      <td>House / apartment</td>\n",
       "      <td>-17281</td>\n",
       "      <td>-5578</td>\n",
       "      <td>1</td>\n",
       "      <td>1</td>\n",
       "      <td>0</td>\n",
       "      <td>0</td>\n",
       "      <td>Drivers</td>\n",
       "      <td>-29</td>\n",
       "      <td>0</td>\n",
       "      <td>0</td>\n",
       "    </tr>\n",
       "  </tbody>\n",
       "</table>\n",
       "</div>"
      ],
      "text/plain": [
       "        ID CODE_GENDER FLAG_OWN_CAR FLAG_OWN_REALTY CNT_CHILDREN   \n",
       "0  5065438           F            Y               N  2+ children  \\\n",
       "1  5142753           F            N               N  No children   \n",
       "2  5111146           M            Y               Y  No children   \n",
       "3  5010310           F            Y               Y   1 children   \n",
       "4  5010835           M            Y               Y  2+ children   \n",
       "\n",
       "   AMT_INCOME_TOTAL            NAME_EDUCATION_TYPE    NAME_FAMILY_STATUS   \n",
       "0          270000.0  Secondary / secondary special               Married  \\\n",
       "1           81000.0  Secondary / secondary special  Single / not married   \n",
       "2          270000.0               Higher education               Married   \n",
       "3          112500.0  Secondary / secondary special               Married   \n",
       "4          139500.0  Secondary / secondary special               Married   \n",
       "\n",
       "   NAME_HOUSING_TYPE  DAYS_BIRTH  DAYS_EMPLOYED  FLAG_MOBIL  FLAG_WORK_PHONE   \n",
       "0       With parents      -13258          -2300           1                0  \\\n",
       "1  House / apartment      -17876           -377           1                1   \n",
       "2  House / apartment      -19579          -1028           1                0   \n",
       "3  House / apartment      -15109          -1956           1                0   \n",
       "4  House / apartment      -17281          -5578           1                1   \n",
       "\n",
       "   FLAG_PHONE  FLAG_EMAIL                    JOB  BEGIN_MONTHS STATUS  TARGET  \n",
       "0           0           0               Managers            -6      C       0  \n",
       "1           1           0  Private service staff            -4      0       0  \n",
       "2           1           0               Laborers             0      C       0  \n",
       "3           0           0             Core staff            -3      0       0  \n",
       "4           0           0                Drivers           -29      0       0  "
      ]
     },
     "execution_count": 9,
     "metadata": {},
     "output_type": "execute_result"
    }
   ],
   "source": [
    "df = pd.read_csv('credit_card_approval.csv')\n",
    "df.head()"
   ]
  },
  {
   "cell_type": "code",
   "execution_count": 10,
   "metadata": {},
   "outputs": [
    {
     "name": "stdout",
     "output_type": "stream",
     "text": [
      "(537667, 19)\n",
      "<class 'pandas.core.frame.DataFrame'>\n",
      "RangeIndex: 537667 entries, 0 to 537666\n",
      "Data columns (total 19 columns):\n",
      " #   Column               Non-Null Count   Dtype  \n",
      "---  ------               --------------   -----  \n",
      " 0   ID                   537667 non-null  int64  \n",
      " 1   CODE_GENDER          537667 non-null  object \n",
      " 2   FLAG_OWN_CAR         537667 non-null  object \n",
      " 3   FLAG_OWN_REALTY      537667 non-null  object \n",
      " 4   CNT_CHILDREN         537667 non-null  object \n",
      " 5   AMT_INCOME_TOTAL     537667 non-null  float64\n",
      " 6   NAME_EDUCATION_TYPE  537667 non-null  object \n",
      " 7   NAME_FAMILY_STATUS   537667 non-null  object \n",
      " 8   NAME_HOUSING_TYPE    537667 non-null  object \n",
      " 9   DAYS_BIRTH           537667 non-null  int64  \n",
      " 10  DAYS_EMPLOYED        537667 non-null  int64  \n",
      " 11  FLAG_MOBIL           537667 non-null  int64  \n",
      " 12  FLAG_WORK_PHONE      537667 non-null  int64  \n",
      " 13  FLAG_PHONE           537667 non-null  int64  \n",
      " 14  FLAG_EMAIL           537667 non-null  int64  \n",
      " 15  JOB                  537667 non-null  object \n",
      " 16  BEGIN_MONTHS         537667 non-null  int64  \n",
      " 17  STATUS               537667 non-null  object \n",
      " 18  TARGET               537667 non-null  int64  \n",
      "dtypes: float64(1), int64(9), object(9)\n",
      "memory usage: 77.9+ MB\n"
     ]
    }
   ],
   "source": [
    "print(df.shape)\n",
    "df.info()"
   ]
  },
  {
   "cell_type": "code",
   "execution_count": 6,
   "metadata": {},
   "outputs": [
    {
     "data": {
      "text/plain": [
       "ID                     0\n",
       "CODE_GENDER            0\n",
       "FLAG_OWN_CAR           0\n",
       "FLAG_OWN_REALTY        0\n",
       "CNT_CHILDREN           0\n",
       "AMT_INCOME_TOTAL       0\n",
       "NAME_EDUCATION_TYPE    0\n",
       "NAME_FAMILY_STATUS     0\n",
       "NAME_HOUSING_TYPE      0\n",
       "DAYS_BIRTH             0\n",
       "DAYS_EMPLOYED          0\n",
       "FLAG_MOBIL             0\n",
       "FLAG_WORK_PHONE        0\n",
       "FLAG_PHONE             0\n",
       "FLAG_EMAIL             0\n",
       "JOB                    0\n",
       "BEGIN_MONTHS           0\n",
       "STATUS                 0\n",
       "TARGET                 0\n",
       "dtype: int64"
      ]
     },
     "execution_count": 6,
     "metadata": {},
     "output_type": "execute_result"
    }
   ],
   "source": [
    "# Checar valores nulos\n",
    "df.isnull().sum()"
   ]
  },
  {
   "cell_type": "markdown",
   "metadata": {},
   "source": [
    "### Análise do target"
   ]
  },
  {
   "cell_type": "code",
   "execution_count": 7,
   "metadata": {},
   "outputs": [
    {
     "data": {
      "text/plain": [
       "TARGET\n",
       "0    535705\n",
       "1      1962\n",
       "Name: count, dtype: int64"
      ]
     },
     "execution_count": 7,
     "metadata": {},
     "output_type": "execute_result"
    }
   ],
   "source": [
    "df['TARGET'].value_counts()"
   ]
  },
  {
   "cell_type": "code",
   "execution_count": 7,
   "metadata": {},
   "outputs": [
    {
     "data": {
      "text/plain": [
       "<Axes: title={'center': 'Distribuição da aprovação de cartão de crédito'}, xlabel='Aprovação', ylabel='Porcentagem'>"
      ]
     },
     "execution_count": 7,
     "metadata": {},
     "output_type": "execute_result"
    },
    {
     "data": {
      "image/png": "[encoded data removed]",
      "text/plain": [
       "<Figure size 640x480 with 1 Axes>"
      ]
     },
     "metadata": {},
     "output_type": "display_data"
    }
   ],
   "source": [
    "# Análise de balanceamento do target do dataset\n",
    "df['TARGET'].value_counts(normalize=True).plot(kind='bar', title='Distribuição da aprovação de cartão de crédito',\n",
    "                                               ylabel='Porcentagem',\n",
    "                                               xlabel='Aprovação')"
   ]
  },
  {
   "cell_type": "markdown",
   "metadata": {},
   "source": [
    "### Remoção de valores identificadores"
   ]
  },
  {
   "cell_type": "code",
   "execution_count": 9,
   "metadata": {},
   "outputs": [
    {
     "data": {
      "text/plain": [
       "Index(['CODE_GENDER', 'FLAG_OWN_CAR', 'FLAG_OWN_REALTY', 'CNT_CHILDREN',\n",
       "       'AMT_INCOME_TOTAL', 'NAME_EDUCATION_TYPE', 'NAME_FAMILY_STATUS',\n",
       "       'NAME_HOUSING_TYPE', 'DAYS_BIRTH', 'DAYS_EMPLOYED', 'FLAG_MOBIL',\n",
       "       'FLAG_WORK_PHONE', 'FLAG_PHONE', 'FLAG_EMAIL', 'JOB', 'BEGIN_MONTHS',\n",
       "       'STATUS', 'TARGET'],\n",
       "      dtype='object')"
      ]
     },
     "execution_count": 9,
     "metadata": {},
     "output_type": "execute_result"
    }
   ],
   "source": [
    "# Remover coluna ID\n",
    "df.drop('ID', axis=1, inplace=True)\n",
    "df.columns"
   ]
  },
  {
   "cell_type": "markdown",
   "metadata": {},
   "source": [
    "### Padronização de tempo em anos"
   ]
  },
  {
   "cell_type": "code",
   "execution_count": 10,
   "metadata": {},
   "outputs": [
    {
     "data": {
      "text/plain": [
       "0    36\n",
       "1    48\n",
       "2    53\n",
       "3    41\n",
       "4    47\n",
       "Name: AGE, dtype: int64"
      ]
     },
     "execution_count": 10,
     "metadata": {},
     "output_type": "execute_result"
    }
   ],
   "source": [
    "# Converter valores em dias da coluna 'DAYS_BIRTH' para valor absoluto em anos inteiros\n",
    "df['DAYS_BIRTH'] = abs(df['DAYS_BIRTH']) // 365\n",
    "\n",
    "# Renomear coluna 'DAYS_BIRTH' para 'AGE'\n",
    "df.rename(columns={'DAYS_BIRTH': 'AGE'}, inplace=True)\n",
    "df['AGE'].head()"
   ]
  },
  {
   "cell_type": "code",
   "execution_count": 11,
   "metadata": {},
   "outputs": [
    {
     "data": {
      "text/plain": [
       "0     6.3\n",
       "1     1.0\n",
       "2     2.8\n",
       "3     5.4\n",
       "4    15.3\n",
       "Name: YEARS_EMPLOYED, dtype: float64"
      ]
     },
     "execution_count": 11,
     "metadata": {},
     "output_type": "execute_result"
    }
   ],
   "source": [
    "# Converter valores em dias da coluna 'DAYS_EMPLOYED' para valor absoluto em anos arredondado a uma casa decimal\n",
    "df['DAYS_EMPLOYED'] = df['DAYS_EMPLOYED'].apply(lambda x: round(abs(x)/365, 1))\n",
    "\n",
    "# Renomear coluna 'DAYS_EMPLOYED' para 'YEARS_EMPLOYED'\n",
    "df.rename(columns={'DAYS_EMPLOYED': 'YEARS_EMPLOYED'}, inplace=True)\n",
    "df['YEARS_EMPLOYED'].head()"
   ]
  },
  {
   "cell_type": "markdown",
   "metadata": {},
   "source": [
    "### Padronização de colunas com valores binários em 0 para False e 1 para True"
   ]
  },
  {
   "cell_type": "code",
   "execution_count": 12,
   "metadata": {},
   "outputs": [
    {
     "data": {
      "text/plain": [
       "FLAG_OWN_CAR\n",
       "N    306207\n",
       "Y    231460\n",
       "Name: count, dtype: int64"
      ]
     },
     "execution_count": 12,
     "metadata": {},
     "output_type": "execute_result"
    }
   ],
   "source": [
    "# Apresentar gráficos ao invés de tabelas das features\n",
    "# countplot para variáveis categóricas e histogramas para variáveis numéricas\n",
    "\n",
    "df['FLAG_OWN_CAR'].value_counts()"
   ]
  },
  {
   "cell_type": "code",
   "execution_count": 13,
   "metadata": {},
   "outputs": [
    {
     "data": {
      "text/plain": [
       "FLAG_OWN_REALTY\n",
       "Y    345471\n",
       "N    192196\n",
       "Name: count, dtype: int64"
      ]
     },
     "execution_count": 13,
     "metadata": {},
     "output_type": "execute_result"
    }
   ],
   "source": [
    "df['FLAG_OWN_REALTY'].value_counts()"
   ]
  },
  {
   "cell_type": "code",
   "execution_count": 14,
   "metadata": {},
   "outputs": [],
   "source": [
    "# Substituir Y por 1 e N por 0 nas colunas 'FLAG_OWN_CAR' e 'FLAG_OWN_REALTY'\n",
    "df['FLAG_OWN_CAR'] = df['FLAG_OWN_CAR'].replace({'Y': 1, 'N': 0})\n",
    "df['FLAG_OWN_REALTY'] = df['FLAG_OWN_REALTY'].replace({'Y': 1, 'N': 0})\n",
    "\n",
    "# Fazer com o OneHotEncoder?"
   ]
  },
  {
   "cell_type": "code",
   "execution_count": 15,
   "metadata": {},
   "outputs": [
    {
     "data": {
      "text/plain": [
       "FLAG_OWN_CAR\n",
       "0    306207\n",
       "1    231460\n",
       "Name: count, dtype: int64"
      ]
     },
     "execution_count": 15,
     "metadata": {},
     "output_type": "execute_result"
    }
   ],
   "source": [
    "df['FLAG_OWN_CAR'].value_counts()"
   ]
  },
  {
   "cell_type": "code",
   "execution_count": 16,
   "metadata": {},
   "outputs": [
    {
     "data": {
      "text/plain": [
       "FLAG_OWN_REALTY\n",
       "1    345471\n",
       "0    192196\n",
       "Name: count, dtype: int64"
      ]
     },
     "execution_count": 16,
     "metadata": {},
     "output_type": "execute_result"
    }
   ],
   "source": [
    "df['FLAG_OWN_REALTY'].value_counts()"
   ]
  },
  {
   "cell_type": "markdown",
   "metadata": {},
   "source": [
    "### Análise de colunas categoricas"
   ]
  },
  {
   "cell_type": "code",
   "execution_count": 17,
   "metadata": {},
   "outputs": [
    {
     "data": {
      "text/plain": [
       "CNT_CHILDREN\n",
       "No children    343151\n",
       "1 children     127695\n",
       "2+ children     66821\n",
       "Name: count, dtype: int64"
      ]
     },
     "execution_count": 17,
     "metadata": {},
     "output_type": "execute_result"
    }
   ],
   "source": [
    "# Verificar valores da coluna 'CNT_CHILDREN'\n",
    "df['CNT_CHILDREN'].value_counts()\n",
    "\n",
    "# Usar OrdinalEncoder?"
   ]
  },
  {
   "cell_type": "code",
   "execution_count": 18,
   "metadata": {},
   "outputs": [
    {
     "data": {
      "text/plain": [
       "NAME_EDUCATION_TYPE\n",
       "Secondary / secondary special    358317\n",
       "Higher education                 153770\n",
       "Incomplete higher                 20590\n",
       "Lower secondary                    4556\n",
       "Academic degree                     434\n",
       "Name: count, dtype: int64"
      ]
     },
     "execution_count": 18,
     "metadata": {},
     "output_type": "execute_result"
    }
   ],
   "source": [
    "# Verificar valores da coluna 'NAME_EDUCATION_TYPE'\n",
    "df['NAME_EDUCATION_TYPE'].value_counts()\n",
    "\n",
    "# Usar OrdinalEncoder"
   ]
  },
  {
   "cell_type": "code",
   "execution_count": 19,
   "metadata": {},
   "outputs": [
    {
     "data": {
      "text/plain": [
       "NAME_FAMILY_STATUS\n",
       "Married                 384003\n",
       "Single / not married     65944\n",
       "Civil marriage           44083\n",
       "Separated                31394\n",
       "Widow                    12243\n",
       "Name: count, dtype: int64"
      ]
     },
     "execution_count": 19,
     "metadata": {},
     "output_type": "execute_result"
    }
   ],
   "source": [
    "# Verificar valores da coluna 'NAME_FAMILY_STATUS'\n",
    "df['NAME_FAMILY_STATUS'].value_counts()"
   ]
  },
  {
   "cell_type": "code",
   "execution_count": 20,
   "metadata": {},
   "outputs": [
    {
     "data": {
      "text/plain": [
       "NAME_HOUSING_TYPE\n",
       "House / apartment      474177\n",
       "With parents            29351\n",
       "Municipal apartment     18023\n",
       "Rented apartment         8561\n",
       "Office apartment         4159\n",
       "Co-op apartment          3396\n",
       "Name: count, dtype: int64"
      ]
     },
     "execution_count": 20,
     "metadata": {},
     "output_type": "execute_result"
    }
   ],
   "source": [
    "# Verificar valores da coluna 'NAME_HOUSING_TYPE'\n",
    "df['NAME_HOUSING_TYPE'].value_counts()"
   ]
  },
  {
   "cell_type": "code",
   "execution_count": 21,
   "metadata": {},
   "outputs": [
    {
     "data": {
      "text/plain": [
       "JOB\n",
       "Laborers                 131572\n",
       "Core staff                77112\n",
       "Sales staff               70362\n",
       "Managers                  67738\n",
       "Drivers                   47678\n",
       "High skill tech staff     31768\n",
       "Accountants               27223\n",
       "Medicine staff            26691\n",
       "Cooking staff             13416\n",
       "Security staff            12400\n",
       "Cleaning staff            11399\n",
       "Private service staff      6714\n",
       "Low-skill Laborers         3623\n",
       "Secretaries                3149\n",
       "Waiters/barmen staff       2557\n",
       "HR staff                   1686\n",
       "IT staff                   1319\n",
       "Realty agents              1260\n",
       "Name: count, dtype: int64"
      ]
     },
     "execution_count": 21,
     "metadata": {},
     "output_type": "execute_result"
    }
   ],
   "source": [
    "# Verificar valores da coluna 'JOB'\n",
    "df['JOB'].value_counts()"
   ]
  },
  {
   "cell_type": "code",
   "execution_count": 8,
   "metadata": {},
   "outputs": [],
   "source": [
    "X = df.drop(columns='TARGET')\n",
    "y = df['TARGET']"
   ]
  },
  {
   "cell_type": "markdown",
   "metadata": {},
   "source": []
  }
 ],
 "metadata": {
  "kernelspec": {
   "display_name": "Python 3",
   "language": "python",
   "name": "python3"
  },
  "language_info": {
   "codemirror_mode": {
    "name": "ipython",
    "version": 3
   },
   "file_extension": ".py",
   "mimetype": "text/x-python",
   "name": "python",
   "nbconvert_exporter": "python",
   "pygments_lexer": "ipython3",
   "version": "3.11.3"
  },
  "orig_nbformat": 4
 },
 "nbformat": 4,
 "nbformat_minor": 2
}
